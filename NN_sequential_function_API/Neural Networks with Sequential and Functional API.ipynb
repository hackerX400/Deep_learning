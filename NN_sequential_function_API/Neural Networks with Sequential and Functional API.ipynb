{
  "nbformat": 4,
  "nbformat_minor": 0,
  "metadata": {
    "colab": {
      "provenance": [],
      "gpuType": "T4"
    },
    "kernelspec": {
      "name": "python3",
      "display_name": "Python 3"
    },
    "language_info": {
      "name": "python"
    },
    "accelerator": "GPU"
  },
  "cells": [
    {
      "cell_type": "code",
      "source": [
        "import tensorflow as tf\n",
        "from tensorflow import keras\n",
        "from tensorflow.keras import layers\n",
        "from tensorflow.keras.datasets import mnist\n",
        "import matplotlib.pyplot as plt"
      ],
      "metadata": {
        "id": "W7n6llEC-8Ip"
      },
      "execution_count": 40,
      "outputs": []
    },
    {
      "cell_type": "code",
      "source": [
        "(x_train,y_train),(x_test,y_test) = mnist.load_data()\n",
        "x_train = x_train.reshape(-1,28*28).astype(\"float32\")/255.0\n",
        "x_test = x_test.reshape(-1,28*28).astype(\"float32\")/255.0"
      ],
      "metadata": {
        "id": "lRUQeK6yDL2W",
        "colab": {
          "base_uri": "https://localhost:8080/"
        },
        "outputId": "b6ec00ec-6f29-4c24-8686-108b2f307948"
      },
      "execution_count": 11,
      "outputs": [
        {
          "output_type": "stream",
          "name": "stdout",
          "text": [
            "Downloading data from https://storage.googleapis.com/tensorflow/tf-keras-datasets/mnist.npz\n",
            "11490434/11490434 [==============================] - 2s 0us/step\n"
          ]
        }
      ]
    },
    {
      "cell_type": "code",
      "source": [
        "def show_image(image):\n",
        "    plt.imshow(image.reshape(28, 28), cmap='gray')\n",
        "    plt.axis('off')\n",
        "    plt.show()\n",
        "\n",
        "# Display a sample image from the training data\n",
        "for i in range(5):\n",
        "\n",
        "  sample_index = i\n",
        "  show_image(x_train[sample_index])"
      ],
      "metadata": {
        "colab": {
          "base_uri": "https://localhost:8080/",
          "height": 1000
        },
        "id": "U3M-xpCPGGWP",
        "outputId": "6f718993-623d-4b33-c003-534a706ae153"
      },
      "execution_count": 43,
      "outputs": [
        {
          "output_type": "display_data",
          "data": {
            "text/plain": [
              "<Figure size 640x480 with 1 Axes>"
            ],
            "image/png": "[encoded data removed]"
          },
          "metadata": {}
        },
        {
          "output_type": "display_data",
          "data": {
            "text/plain": [
              "<Figure size 640x480 with 1 Axes>"
            ],
            "image/png": "[encoded data removed]"
          },
          "metadata": {}
        },
        {
          "output_type": "display_data",
          "data": {
            "text/plain": [
              "<Figure size 640x480 with 1 Axes>"
            ],
            "image/png": "[encoded data removed]"
          },
          "metadata": {}
        },
        {
          "output_type": "display_data",
          "data": {
            "text/plain": [
              "<Figure size 640x480 with 1 Axes>"
            ],
            "image/png": "[encoded data removed]"
          },
          "metadata": {}
        },
        {
          "output_type": "display_data",
          "data": {
            "text/plain": [
              "<Figure size 640x480 with 1 Axes>"
            ],
            "image/png": "[encoded data removed]"
          },
          "metadata": {}
        }
      ]
    },
    {
      "cell_type": "code",
      "source": [
        "print(x_train.shape)\n",
        "print(y_train.shape)"
      ],
      "metadata": {
        "colab": {
          "base_uri": "https://localhost:8080/"
        },
        "id": "L7qw7bAyDtEW",
        "outputId": "4669b967-5999-4c1c-e083-f7499223a101"
      },
      "execution_count": 12,
      "outputs": [
        {
          "output_type": "stream",
          "name": "stdout",
          "text": [
            "(60000, 784)\n",
            "(60000,)\n"
          ]
        }
      ]
    },
    {
      "cell_type": "code",
      "source": [
        "# sequential API\n",
        "model = keras.Sequential(\n",
        "  [\n",
        "      keras.Input(shape=(28*28)),\n",
        "      layers.Dense(512,activation = 'relu'),\n",
        "      layers.Dense(256,activation = 'relu'),\n",
        "      layers.Dense(10),\n",
        "  ]\n",
        ")\n",
        "\n",
        "model.compile(\n",
        "    loss = keras.losses.SparseCategoricalCrossentropy(from_logits=True),\n",
        "    optimizer = keras.optimizers.Adam(learning_rate =0.001),\n",
        "    metrics = [\"accuracy\"],\n",
        ")"
      ],
      "metadata": {
        "id": "eyMFV6-7Eu_y"
      },
      "execution_count": 36,
      "outputs": []
    },
    {
      "cell_type": "code",
      "source": [
        "model.fit(x_train,y_train,batch_size = 32,epochs = 5,verbose = 1)\n",
        "model.evaluate(x_test,y_test,batch_size = 32,verbose = 2)"
      ],
      "metadata": {
        "colab": {
          "base_uri": "https://localhost:8080/"
        },
        "id": "QJPrSmv9G48N",
        "outputId": "4ac66b88-9c57-4a71-cabc-81aeeefd669e"
      },
      "execution_count": 38,
      "outputs": [
        {
          "output_type": "stream",
          "name": "stdout",
          "text": [
            "Epoch 1/5\n",
            "1875/1875 [==============================] - 5s 3ms/step - loss: 0.0284 - accuracy: 0.9911\n",
            "Epoch 2/5\n",
            "1875/1875 [==============================] - 6s 3ms/step - loss: 0.0228 - accuracy: 0.9927\n",
            "Epoch 3/5\n",
            "1875/1875 [==============================] - 5s 3ms/step - loss: 0.0221 - accuracy: 0.9929\n",
            "Epoch 4/5\n",
            "1875/1875 [==============================] - 5s 3ms/step - loss: 0.0159 - accuracy: 0.9952\n",
            "Epoch 5/5\n",
            "1875/1875 [==============================] - 6s 3ms/step - loss: 0.0181 - accuracy: 0.9944\n",
            "313/313 - 1s - loss: 0.0932 - accuracy: 0.9789 - 520ms/epoch - 2ms/step\n"
          ]
        },
        {
          "output_type": "execute_result",
          "data": {
            "text/plain": [
              "[0.09323643893003464, 0.9789000153541565]"
            ]
          },
          "metadata": {},
          "execution_count": 38
        }
      ]
    },
    {
      "cell_type": "code",
      "source": [
        "print(model.summary())"
      ],
      "metadata": {
        "colab": {
          "base_uri": "https://localhost:8080/"
        },
        "id": "Myn5WZC0HVwq",
        "outputId": "43307fbe-5d41-4230-b056-27c224b12a44"
      },
      "execution_count": 15,
      "outputs": [
        {
          "output_type": "stream",
          "name": "stdout",
          "text": [
            "Model: \"sequential\"\n",
            "_________________________________________________________________\n",
            " Layer (type)                Output Shape              Param #   \n",
            "=================================================================\n",
            " dense (Dense)               (None, 512)               401920    \n",
            "                                                                 \n",
            " dense_1 (Dense)             (None, 256)               131328    \n",
            "                                                                 \n",
            " dense_2 (Dense)             (None, 10)                2570      \n",
            "                                                                 \n",
            "=================================================================\n",
            "Total params: 535818 (2.04 MB)\n",
            "Trainable params: 535818 (2.04 MB)\n",
            "Non-trainable params: 0 (0.00 Byte)\n",
            "_________________________________________________________________\n",
            "None\n"
          ]
        }
      ]
    },
    {
      "cell_type": "code",
      "source": [
        "# functional api\n",
        "inputs = keras.Input(shape=(784))\n",
        "x = layers.Dense(512,activation = 'sigmoid',name = \"first_layers\")(inputs)\n",
        "x = layers.Dense(256,activation = 'sigmoid',name = 'second_layers')(x)\n",
        "outputs = layers.Dense(10,activation = 'softmax')(x)\n",
        "model = keras.Model(inputs=inputs,outputs = outputs)\n",
        "opt = ['Gradient_Descent','Mometum','Adagrad','RMSprop','Adam']\n",
        "for i in opt:\n",
        "\n",
        "  model.compile(\n",
        "      loss = keras.losses.SparseCategoricalCrossentropy(from_logits = False),\n",
        "      optimizer = keras.optimizers.Adam(learning_rate = 0.01),\n",
        "      metrics = [\"accuracy\"],\n",
        "  )"
      ],
      "metadata": {
        "id": "9DvNAvuSJ6fU"
      },
      "execution_count": 30,
      "outputs": []
    },
    {
      "cell_type": "code",
      "source": [
        "model.fit(x_train,y_train,batch_size = 32,epochs = 5,verbose = 2)\n",
        "model.evaluate(x_test,y_test,batch_size = 32,verbose = 2)"
      ],
      "metadata": {
        "colab": {
          "base_uri": "https://localhost:8080/"
        },
        "id": "eJ5QGOSz4_kC",
        "outputId": "ef619e6e-d1a4-48b7-e901-8b7a219f5e67"
      },
      "execution_count": 31,
      "outputs": [
        {
          "output_type": "stream",
          "name": "stdout",
          "text": [
            "Epoch 1/5\n",
            "1875/1875 - 6s - loss: 0.2343 - accuracy: 0.9295 - 6s/epoch - 3ms/step\n",
            "Epoch 2/5\n",
            "1875/1875 - 4s - loss: 0.1231 - accuracy: 0.9631 - 4s/epoch - 2ms/step\n",
            "Epoch 3/5\n",
            "1875/1875 - 4s - loss: 0.1090 - accuracy: 0.9662 - 4s/epoch - 2ms/step\n",
            "Epoch 4/5\n",
            "1875/1875 - 5s - loss: 0.1057 - accuracy: 0.9685 - 5s/epoch - 3ms/step\n",
            "Epoch 5/5\n",
            "1875/1875 - 4s - loss: 0.0988 - accuracy: 0.9699 - 4s/epoch - 2ms/step\n",
            "313/313 - 1s - loss: 0.1285 - accuracy: 0.9627 - 625ms/epoch - 2ms/step\n"
          ]
        },
        {
          "output_type": "execute_result",
          "data": {
            "text/plain": [
              "[0.1285351663827896, 0.9627000093460083]"
            ]
          },
          "metadata": {},
          "execution_count": 31
        }
      ]
    },
    {
      "cell_type": "code",
      "source": [
        "print(model.summary())"
      ],
      "metadata": {
        "colab": {
          "base_uri": "https://localhost:8080/"
        },
        "id": "fPa5mazK5pyx",
        "outputId": "0fa27685-1a64-4cac-abdf-61cdbf569f19"
      },
      "execution_count": 29,
      "outputs": [
        {
          "output_type": "stream",
          "name": "stdout",
          "text": [
            "Model: \"model_1\"\n",
            "_________________________________________________________________\n",
            " Layer (type)                Output Shape              Param #   \n",
            "=================================================================\n",
            " input_8 (InputLayer)        [(None, 784)]             0         \n",
            "                                                                 \n",
            " first_layers (Dense)        (None, 512)               401920    \n",
            "                                                                 \n",
            " second_layers (Dense)       (None, 256)               131328    \n",
            "                                                                 \n",
            " dense_21 (Dense)            (None, 10)                2570      \n",
            "                                                                 \n",
            "=================================================================\n",
            "Total params: 535818 (2.04 MB)\n",
            "Trainable params: 535818 (2.04 MB)\n",
            "Non-trainable params: 0 (0.00 Byte)\n",
            "_________________________________________________________________\n",
            "None\n"
          ]
        }
      ]
    },
    {
      "cell_type": "code",
      "source": [
        "import tensorflow as tf\n",
        "from tensorflow import keras\n",
        "from tensorflow.keras import layers\n",
        "\n",
        "# Define the model architecture\n",
        "inputs = keras.Input(shape=(784))\n",
        "x = layers.Dense(512, activation='sigmoid', name=\"first_layer\")(inputs)\n",
        "x = layers.Dense(256, activation='sigmoid', name='second_layer')(x)\n",
        "outputs = layers.Dense(10, activation='softmax')(x)\n",
        "model = keras.Model(inputs=inputs, outputs=outputs)\n",
        "\n",
        "# List of optimizers\n",
        "opt = ['GradientDescent', 'Momentum', 'Adagrad', 'RMSprop', 'Adam']\n",
        "\n",
        "# Dictionary to map optimizer names to their corresponding classes\n",
        "optimizer_classes = {\n",
        "    'GradientDescent': tf.keras.optimizers.SGD,\n",
        "    'Momentum': lambda: tf.keras.optimizers.SGD(momentum=0.9),\n",
        "    'Adagrad': tf.keras.optimizers.Adagrad,\n",
        "    'RMSprop': tf.keras.optimizers.RMSprop,\n",
        "    'Adam': tf.keras.optimizers.Adam\n",
        "}\n",
        "\n",
        "# Loop through each optimizer and compile the model\n",
        "for optimizer_name in opt:\n",
        "    if optimizer_name == 'Momentum':\n",
        "        optimizer_instance = tf.keras.optimizers.SGD(learning_rate=0.01, momentum=0.9)\n",
        "    else:\n",
        "        optimizer_class = optimizer_classes[optimizer_name]\n",
        "        optimizer_instance = optimizer_class(learning_rate=0.01)\n",
        "\n",
        "    model.compile(\n",
        "        loss=keras.losses.SparseCategoricalCrossentropy(from_logits=False),\n",
        "        optimizer=optimizer_instance,\n",
        "        metrics=[\"accuracy\"],\n",
        "    )\n",
        "    print(f\"Compiled model with optimizer: {optimizer_name}\")\n",
        "    model.fit(x_train,y_train,batch_size = 32,epochs = 5,verbose = 2)\n",
        "    model.evaluate(x_test,y_test,batch_size = 32,verbose = 2)"
      ],
      "metadata": {
        "colab": {
          "base_uri": "https://localhost:8080/"
        },
        "id": "Ghgj-Lao7Bek",
        "outputId": "0d764a2f-777b-4629-a298-e1ae0bfc325f"
      },
      "execution_count": 35,
      "outputs": [
        {
          "output_type": "stream",
          "name": "stdout",
          "text": [
            "Compiled model with optimizer: GradientDescent\n",
            "Epoch 1/5\n",
            "1875/1875 - 5s - loss: 2.1164 - accuracy: 0.3971 - 5s/epoch - 3ms/step\n",
            "Epoch 2/5\n",
            "1875/1875 - 4s - loss: 1.3536 - accuracy: 0.7107 - 4s/epoch - 2ms/step\n",
            "Epoch 3/5\n",
            "1875/1875 - 4s - loss: 0.7956 - accuracy: 0.8116 - 4s/epoch - 2ms/step\n",
            "Epoch 4/5\n",
            "1875/1875 - 5s - loss: 0.5944 - accuracy: 0.8483 - 5s/epoch - 2ms/step\n",
            "Epoch 5/5\n",
            "1875/1875 - 4s - loss: 0.5011 - accuracy: 0.8662 - 4s/epoch - 2ms/step\n",
            "313/313 - 1s - loss: 0.4519 - accuracy: 0.8775 - 631ms/epoch - 2ms/step\n",
            "Compiled model with optimizer: Momentum\n",
            "Epoch 1/5\n",
            "1875/1875 - 4s - loss: 0.3844 - accuracy: 0.8887 - 4s/epoch - 2ms/step\n",
            "Epoch 2/5\n",
            "1875/1875 - 5s - loss: 0.3131 - accuracy: 0.9082 - 5s/epoch - 2ms/step\n",
            "Epoch 3/5\n",
            "1875/1875 - 4s - loss: 0.2816 - accuracy: 0.9178 - 4s/epoch - 2ms/step\n",
            "Epoch 4/5\n",
            "1875/1875 - 4s - loss: 0.2582 - accuracy: 0.9242 - 4s/epoch - 2ms/step\n",
            "Epoch 5/5\n",
            "1875/1875 - 5s - loss: 0.2348 - accuracy: 0.9307 - 5s/epoch - 2ms/step\n",
            "313/313 - 1s - loss: 0.2143 - accuracy: 0.9377 - 613ms/epoch - 2ms/step\n",
            "Compiled model with optimizer: Adagrad\n",
            "Epoch 1/5\n",
            "1875/1875 - 5s - loss: 0.2098 - accuracy: 0.9393 - 5s/epoch - 3ms/step\n",
            "Epoch 2/5\n",
            "1875/1875 - 4s - loss: 0.2033 - accuracy: 0.9409 - 4s/epoch - 2ms/step\n",
            "Epoch 3/5\n",
            "1875/1875 - 4s - loss: 0.1977 - accuracy: 0.9437 - 4s/epoch - 2ms/step\n",
            "Epoch 4/5\n",
            "1875/1875 - 4s - loss: 0.1928 - accuracy: 0.9452 - 4s/epoch - 2ms/step\n",
            "Epoch 5/5\n",
            "1875/1875 - 4s - loss: 0.1879 - accuracy: 0.9458 - 4s/epoch - 2ms/step\n",
            "313/313 - 1s - loss: 0.1871 - accuracy: 0.9450 - 636ms/epoch - 2ms/step\n",
            "Compiled model with optimizer: RMSprop\n",
            "Epoch 1/5\n",
            "1875/1875 - 5s - loss: 0.2773 - accuracy: 0.9278 - 5s/epoch - 3ms/step\n",
            "Epoch 2/5\n",
            "1875/1875 - 4s - loss: 0.1158 - accuracy: 0.9685 - 4s/epoch - 2ms/step\n",
            "Epoch 3/5\n",
            "1875/1875 - 4s - loss: 0.0893 - accuracy: 0.9759 - 4s/epoch - 2ms/step\n",
            "Epoch 4/5\n",
            "1875/1875 - 4s - loss: 0.0744 - accuracy: 0.9798 - 4s/epoch - 2ms/step\n",
            "Epoch 5/5\n",
            "1875/1875 - 4s - loss: 0.0662 - accuracy: 0.9819 - 4s/epoch - 2ms/step\n",
            "313/313 - 1s - loss: 0.1309 - accuracy: 0.9711 - 632ms/epoch - 2ms/step\n",
            "Compiled model with optimizer: Adam\n",
            "Epoch 1/5\n",
            "1875/1875 - 5s - loss: 0.1365 - accuracy: 0.9627 - 5s/epoch - 2ms/step\n",
            "Epoch 2/5\n",
            "1875/1875 - 5s - loss: 0.1184 - accuracy: 0.9657 - 5s/epoch - 3ms/step\n",
            "Epoch 3/5\n",
            "1875/1875 - 4s - loss: 0.1170 - accuracy: 0.9656 - 4s/epoch - 2ms/step\n",
            "Epoch 4/5\n",
            "1875/1875 - 4s - loss: 0.1242 - accuracy: 0.9641 - 4s/epoch - 2ms/step\n",
            "Epoch 5/5\n",
            "1875/1875 - 5s - loss: 0.1186 - accuracy: 0.9664 - 5s/epoch - 3ms/step\n",
            "313/313 - 1s - loss: 0.1986 - accuracy: 0.9496 - 615ms/epoch - 2ms/step\n"
          ]
        }
      ]
    }
  ]
}