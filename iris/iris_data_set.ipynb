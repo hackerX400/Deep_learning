{
  "nbformat": 4,
  "nbformat_minor": 0,
  "metadata": {
    "colab": {
      "provenance": []
    },
    "kernelspec": {
      "name": "python3",
      "display_name": "Python 3"
    },
    "language_info": {
      "name": "python"
    }
  },
  "cells": [
    {
      "cell_type": "code",
      "execution_count": 50,
      "metadata": {
        "id": "szSsBE67FNG0"
      },
      "outputs": [],
      "source": [
        "import pandas as pd\n",
        "import numpy as np\n",
        "from tensorflow.keras import layers, models, optimizers, metrics\n",
        "from sklearn.datasets import load_iris\n",
        "from sklearn.model_selection import train_test_split\n",
        "from sklearn.preprocessing import StandardScaler\n",
        "import matplotlib.pyplot as plt"
      ]
    },
    {
      "cell_type": "code",
      "source": [
        "df = load_iris()"
      ],
      "metadata": {
        "id": "fDuKgWdrFeRI"
      },
      "execution_count": 3,
      "outputs": []
    },
    {
      "cell_type": "code",
      "source": [
        "X = df.data\n",
        "y = df.target"
      ],
      "metadata": {
        "id": "ruyeipQeFp4T"
      },
      "execution_count": 4,
      "outputs": []
    },
    {
      "cell_type": "code",
      "source": [
        "scaler = StandardScaler()\n",
        "X = scaler.fit_transform(X)\n",
        "X_train, X_test, y_train, y_test = train_test_split(X, y, test_size=0.2)"
      ],
      "metadata": {
        "id": "wCMXbYgYFsqx"
      },
      "execution_count": 16,
      "outputs": []
    },
    {
      "cell_type": "code",
      "source": [
        "model = models.Sequential(\n",
        "    [\n",
        "     layers.Input(shape=(4,)),\n",
        "     layers.Dense(16, activation=\"relu\"),\n",
        "     layers.Dense(8, activation=\"relu\"),\n",
        "     layers.Dense(3, activation=\"softmax\"),\n",
        "     ]\n",
        ")"
      ],
      "metadata": {
        "id": "PVWLpRaHFt2M"
      },
      "execution_count": 24,
      "outputs": []
    },
    {
      "cell_type": "code",
      "source": [
        "model.compile(\n",
        "    optimizer=optimizers.Adam(),\n",
        "    loss=\"sparse_categorical_crossentropy\",\n",
        "    metrics=['accuracy']\n",
        ")"
      ],
      "metadata": {
        "id": "1ZUVlkVeGIbO"
      },
      "execution_count": 51,
      "outputs": []
    },
    {
      "cell_type": "code",
      "source": [
        "history = model.fit(X_train,y_train,epochs=100,batch_size=16,verbose = 2,validation_split = 0.2)"
      ],
      "metadata": {
        "colab": {
          "base_uri": "https://localhost:8080/"
        },
        "id": "snpiriUNGvUq",
        "outputId": "f71e617f-a53d-45c9-d610-0fe33a642433"
      },
      "execution_count": 54,
      "outputs": [
        {
          "output_type": "stream",
          "name": "stdout",
          "text": [
            "Epoch 1/100\n",
            "6/6 - 0s - 48ms/step - accuracy: 0.9896 - loss: 0.0225 - val_accuracy: 1.0000 - val_loss: 0.0079\n",
            "Epoch 2/100\n",
            "6/6 - 0s - 14ms/step - accuracy: 0.9896 - loss: 0.0222 - val_accuracy: 1.0000 - val_loss: 0.0086\n",
            "Epoch 3/100\n",
            "6/6 - 0s - 22ms/step - accuracy: 0.9896 - loss: 0.0227 - val_accuracy: 1.0000 - val_loss: 0.0082\n",
            "Epoch 4/100\n",
            "6/6 - 0s - 25ms/step - accuracy: 0.9896 - loss: 0.0223 - val_accuracy: 1.0000 - val_loss: 0.0098\n",
            "Epoch 5/100\n",
            "6/6 - 0s - 20ms/step - accuracy: 0.9896 - loss: 0.0219 - val_accuracy: 1.0000 - val_loss: 0.0102\n",
            "Epoch 6/100\n",
            "6/6 - 0s - 21ms/step - accuracy: 0.9896 - loss: 0.0220 - val_accuracy: 1.0000 - val_loss: 0.0100\n",
            "Epoch 7/100\n",
            "6/6 - 0s - 9ms/step - accuracy: 0.9896 - loss: 0.0221 - val_accuracy: 1.0000 - val_loss: 0.0096\n",
            "Epoch 8/100\n",
            "6/6 - 0s - 13ms/step - accuracy: 0.9896 - loss: 0.0219 - val_accuracy: 1.0000 - val_loss: 0.0097\n",
            "Epoch 9/100\n",
            "6/6 - 0s - 23ms/step - accuracy: 0.9896 - loss: 0.0215 - val_accuracy: 1.0000 - val_loss: 0.0109\n",
            "Epoch 10/100\n",
            "6/6 - 0s - 20ms/step - accuracy: 0.9896 - loss: 0.0216 - val_accuracy: 1.0000 - val_loss: 0.0111\n",
            "Epoch 11/100\n",
            "6/6 - 0s - 21ms/step - accuracy: 0.9896 - loss: 0.0214 - val_accuracy: 1.0000 - val_loss: 0.0117\n",
            "Epoch 12/100\n",
            "6/6 - 0s - 25ms/step - accuracy: 0.9896 - loss: 0.0222 - val_accuracy: 1.0000 - val_loss: 0.0107\n",
            "Epoch 13/100\n",
            "6/6 - 0s - 22ms/step - accuracy: 0.9896 - loss: 0.0212 - val_accuracy: 1.0000 - val_loss: 0.0113\n",
            "Epoch 14/100\n",
            "6/6 - 0s - 10ms/step - accuracy: 0.9896 - loss: 0.0219 - val_accuracy: 1.0000 - val_loss: 0.0130\n",
            "Epoch 15/100\n",
            "6/6 - 0s - 26ms/step - accuracy: 0.9896 - loss: 0.0216 - val_accuracy: 1.0000 - val_loss: 0.0119\n",
            "Epoch 16/100\n",
            "6/6 - 0s - 23ms/step - accuracy: 0.9896 - loss: 0.0211 - val_accuracy: 1.0000 - val_loss: 0.0118\n",
            "Epoch 17/100\n",
            "6/6 - 0s - 20ms/step - accuracy: 0.9896 - loss: 0.0216 - val_accuracy: 1.0000 - val_loss: 0.0133\n",
            "Epoch 18/100\n",
            "6/6 - 0s - 26ms/step - accuracy: 0.9896 - loss: 0.0209 - val_accuracy: 1.0000 - val_loss: 0.0128\n",
            "Epoch 19/100\n",
            "6/6 - 0s - 26ms/step - accuracy: 0.9896 - loss: 0.0211 - val_accuracy: 1.0000 - val_loss: 0.0123\n",
            "Epoch 20/100\n",
            "6/6 - 0s - 11ms/step - accuracy: 0.9896 - loss: 0.0209 - val_accuracy: 1.0000 - val_loss: 0.0122\n",
            "Epoch 21/100\n",
            "6/6 - 0s - 25ms/step - accuracy: 0.9896 - loss: 0.0209 - val_accuracy: 1.0000 - val_loss: 0.0125\n",
            "Epoch 22/100\n",
            "6/6 - 0s - 23ms/step - accuracy: 0.9896 - loss: 0.0207 - val_accuracy: 1.0000 - val_loss: 0.0129\n",
            "Epoch 23/100\n",
            "6/6 - 0s - 23ms/step - accuracy: 0.9896 - loss: 0.0208 - val_accuracy: 1.0000 - val_loss: 0.0137\n",
            "Epoch 24/100\n",
            "6/6 - 0s - 11ms/step - accuracy: 0.9896 - loss: 0.0212 - val_accuracy: 1.0000 - val_loss: 0.0147\n",
            "Epoch 25/100\n",
            "6/6 - 0s - 13ms/step - accuracy: 0.9896 - loss: 0.0208 - val_accuracy: 1.0000 - val_loss: 0.0135\n",
            "Epoch 26/100\n",
            "6/6 - 0s - 20ms/step - accuracy: 0.9896 - loss: 0.0205 - val_accuracy: 1.0000 - val_loss: 0.0135\n",
            "Epoch 27/100\n",
            "6/6 - 0s - 10ms/step - accuracy: 0.9896 - loss: 0.0204 - val_accuracy: 1.0000 - val_loss: 0.0137\n",
            "Epoch 28/100\n",
            "6/6 - 0s - 11ms/step - accuracy: 0.9896 - loss: 0.0204 - val_accuracy: 1.0000 - val_loss: 0.0134\n",
            "Epoch 29/100\n",
            "6/6 - 0s - 13ms/step - accuracy: 0.9896 - loss: 0.0202 - val_accuracy: 1.0000 - val_loss: 0.0134\n",
            "Epoch 30/100\n",
            "6/6 - 0s - 10ms/step - accuracy: 0.9896 - loss: 0.0204 - val_accuracy: 1.0000 - val_loss: 0.0137\n",
            "Epoch 31/100\n",
            "6/6 - 0s - 10ms/step - accuracy: 0.9896 - loss: 0.0202 - val_accuracy: 1.0000 - val_loss: 0.0140\n",
            "Epoch 32/100\n",
            "6/6 - 0s - 13ms/step - accuracy: 0.9896 - loss: 0.0203 - val_accuracy: 1.0000 - val_loss: 0.0150\n",
            "Epoch 33/100\n",
            "6/6 - 0s - 23ms/step - accuracy: 0.9896 - loss: 0.0202 - val_accuracy: 1.0000 - val_loss: 0.0146\n",
            "Epoch 34/100\n",
            "6/6 - 0s - 23ms/step - accuracy: 0.9896 - loss: 0.0206 - val_accuracy: 1.0000 - val_loss: 0.0138\n",
            "Epoch 35/100\n",
            "6/6 - 0s - 23ms/step - accuracy: 0.9896 - loss: 0.0203 - val_accuracy: 1.0000 - val_loss: 0.0155\n",
            "Epoch 36/100\n",
            "6/6 - 0s - 10ms/step - accuracy: 0.9896 - loss: 0.0201 - val_accuracy: 1.0000 - val_loss: 0.0161\n",
            "Epoch 37/100\n",
            "6/6 - 0s - 10ms/step - accuracy: 0.9896 - loss: 0.0201 - val_accuracy: 1.0000 - val_loss: 0.0152\n",
            "Epoch 38/100\n",
            "6/6 - 0s - 10ms/step - accuracy: 0.9896 - loss: 0.0200 - val_accuracy: 1.0000 - val_loss: 0.0160\n",
            "Epoch 39/100\n",
            "6/6 - 0s - 12ms/step - accuracy: 0.9896 - loss: 0.0198 - val_accuracy: 1.0000 - val_loss: 0.0157\n",
            "Epoch 40/100\n",
            "6/6 - 0s - 17ms/step - accuracy: 0.9896 - loss: 0.0197 - val_accuracy: 1.0000 - val_loss: 0.0149\n",
            "Epoch 41/100\n",
            "6/6 - 0s - 22ms/step - accuracy: 0.9896 - loss: 0.0197 - val_accuracy: 1.0000 - val_loss: 0.0155\n",
            "Epoch 42/100\n",
            "6/6 - 0s - 24ms/step - accuracy: 0.9896 - loss: 0.0197 - val_accuracy: 1.0000 - val_loss: 0.0162\n",
            "Epoch 43/100\n",
            "6/6 - 0s - 19ms/step - accuracy: 0.9896 - loss: 0.0197 - val_accuracy: 1.0000 - val_loss: 0.0163\n",
            "Epoch 44/100\n",
            "6/6 - 0s - 23ms/step - accuracy: 0.9896 - loss: 0.0197 - val_accuracy: 1.0000 - val_loss: 0.0174\n",
            "Epoch 45/100\n",
            "6/6 - 0s - 13ms/step - accuracy: 0.9896 - loss: 0.0196 - val_accuracy: 1.0000 - val_loss: 0.0178\n",
            "Epoch 46/100\n",
            "6/6 - 0s - 26ms/step - accuracy: 0.9896 - loss: 0.0194 - val_accuracy: 1.0000 - val_loss: 0.0168\n",
            "Epoch 47/100\n",
            "6/6 - 0s - 18ms/step - accuracy: 0.9896 - loss: 0.0198 - val_accuracy: 1.0000 - val_loss: 0.0154\n",
            "Epoch 48/100\n",
            "6/6 - 0s - 20ms/step - accuracy: 0.9896 - loss: 0.0197 - val_accuracy: 1.0000 - val_loss: 0.0151\n",
            "Epoch 49/100\n",
            "6/6 - 0s - 19ms/step - accuracy: 0.9896 - loss: 0.0196 - val_accuracy: 1.0000 - val_loss: 0.0151\n",
            "Epoch 50/100\n",
            "6/6 - 0s - 21ms/step - accuracy: 0.9896 - loss: 0.0192 - val_accuracy: 1.0000 - val_loss: 0.0174\n",
            "Epoch 51/100\n",
            "6/6 - 0s - 23ms/step - accuracy: 0.9896 - loss: 0.0194 - val_accuracy: 1.0000 - val_loss: 0.0172\n",
            "Epoch 52/100\n",
            "6/6 - 0s - 22ms/step - accuracy: 0.9896 - loss: 0.0190 - val_accuracy: 1.0000 - val_loss: 0.0182\n",
            "Epoch 53/100\n",
            "6/6 - 0s - 22ms/step - accuracy: 0.9896 - loss: 0.0203 - val_accuracy: 1.0000 - val_loss: 0.0204\n",
            "Epoch 54/100\n",
            "6/6 - 0s - 15ms/step - accuracy: 0.9896 - loss: 0.0198 - val_accuracy: 1.0000 - val_loss: 0.0177\n",
            "Epoch 55/100\n",
            "6/6 - 0s - 16ms/step - accuracy: 0.9896 - loss: 0.0192 - val_accuracy: 1.0000 - val_loss: 0.0178\n",
            "Epoch 56/100\n",
            "6/6 - 0s - 21ms/step - accuracy: 0.9896 - loss: 0.0191 - val_accuracy: 1.0000 - val_loss: 0.0180\n",
            "Epoch 57/100\n",
            "6/6 - 0s - 22ms/step - accuracy: 0.9896 - loss: 0.0192 - val_accuracy: 1.0000 - val_loss: 0.0193\n",
            "Epoch 58/100\n",
            "6/6 - 0s - 23ms/step - accuracy: 0.9896 - loss: 0.0188 - val_accuracy: 1.0000 - val_loss: 0.0187\n",
            "Epoch 59/100\n",
            "6/6 - 0s - 24ms/step - accuracy: 0.9896 - loss: 0.0190 - val_accuracy: 1.0000 - val_loss: 0.0190\n",
            "Epoch 60/100\n",
            "6/6 - 0s - 22ms/step - accuracy: 0.9896 - loss: 0.0191 - val_accuracy: 1.0000 - val_loss: 0.0171\n",
            "Epoch 61/100\n",
            "6/6 - 0s - 20ms/step - accuracy: 0.9896 - loss: 0.0189 - val_accuracy: 1.0000 - val_loss: 0.0178\n",
            "Epoch 62/100\n",
            "6/6 - 0s - 18ms/step - accuracy: 0.9896 - loss: 0.0189 - val_accuracy: 1.0000 - val_loss: 0.0190\n",
            "Epoch 63/100\n",
            "6/6 - 0s - 18ms/step - accuracy: 0.9896 - loss: 0.0189 - val_accuracy: 1.0000 - val_loss: 0.0178\n",
            "Epoch 64/100\n",
            "6/6 - 0s - 24ms/step - accuracy: 0.9896 - loss: 0.0187 - val_accuracy: 1.0000 - val_loss: 0.0191\n",
            "Epoch 65/100\n",
            "6/6 - 0s - 23ms/step - accuracy: 0.9896 - loss: 0.0188 - val_accuracy: 1.0000 - val_loss: 0.0205\n",
            "Epoch 66/100\n",
            "6/6 - 0s - 21ms/step - accuracy: 0.9896 - loss: 0.0187 - val_accuracy: 1.0000 - val_loss: 0.0191\n",
            "Epoch 67/100\n",
            "6/6 - 0s - 18ms/step - accuracy: 0.9896 - loss: 0.0185 - val_accuracy: 1.0000 - val_loss: 0.0198\n",
            "Epoch 68/100\n",
            "6/6 - 0s - 10ms/step - accuracy: 0.9896 - loss: 0.0184 - val_accuracy: 1.0000 - val_loss: 0.0189\n",
            "Epoch 69/100\n",
            "6/6 - 0s - 25ms/step - accuracy: 0.9896 - loss: 0.0185 - val_accuracy: 1.0000 - val_loss: 0.0186\n",
            "Epoch 70/100\n",
            "6/6 - 0s - 10ms/step - accuracy: 0.9896 - loss: 0.0185 - val_accuracy: 1.0000 - val_loss: 0.0201\n",
            "Epoch 71/100\n",
            "6/6 - 0s - 14ms/step - accuracy: 0.9896 - loss: 0.0184 - val_accuracy: 1.0000 - val_loss: 0.0206\n",
            "Epoch 72/100\n",
            "6/6 - 0s - 12ms/step - accuracy: 0.9896 - loss: 0.0184 - val_accuracy: 1.0000 - val_loss: 0.0206\n",
            "Epoch 73/100\n",
            "6/6 - 0s - 13ms/step - accuracy: 0.9896 - loss: 0.0191 - val_accuracy: 1.0000 - val_loss: 0.0227\n",
            "Epoch 74/100\n",
            "6/6 - 0s - 10ms/step - accuracy: 0.9896 - loss: 0.0187 - val_accuracy: 1.0000 - val_loss: 0.0191\n",
            "Epoch 75/100\n",
            "6/6 - 0s - 13ms/step - accuracy: 0.9896 - loss: 0.0183 - val_accuracy: 1.0000 - val_loss: 0.0188\n",
            "Epoch 76/100\n",
            "6/6 - 0s - 23ms/step - accuracy: 0.9896 - loss: 0.0185 - val_accuracy: 1.0000 - val_loss: 0.0201\n",
            "Epoch 77/100\n",
            "6/6 - 0s - 22ms/step - accuracy: 0.9896 - loss: 0.0192 - val_accuracy: 1.0000 - val_loss: 0.0171\n",
            "Epoch 78/100\n",
            "6/6 - 0s - 21ms/step - accuracy: 0.9896 - loss: 0.0180 - val_accuracy: 1.0000 - val_loss: 0.0185\n",
            "Epoch 79/100\n",
            "6/6 - 0s - 25ms/step - accuracy: 0.9896 - loss: 0.0180 - val_accuracy: 1.0000 - val_loss: 0.0203\n",
            "Epoch 80/100\n",
            "6/6 - 0s - 14ms/step - accuracy: 0.9896 - loss: 0.0180 - val_accuracy: 1.0000 - val_loss: 0.0205\n",
            "Epoch 81/100\n",
            "6/6 - 0s - 16ms/step - accuracy: 1.0000 - loss: 0.0178 - val_accuracy: 1.0000 - val_loss: 0.0220\n",
            "Epoch 82/100\n",
            "6/6 - 0s - 19ms/step - accuracy: 1.0000 - loss: 0.0178 - val_accuracy: 1.0000 - val_loss: 0.0214\n",
            "Epoch 83/100\n",
            "6/6 - 0s - 10ms/step - accuracy: 1.0000 - loss: 0.0178 - val_accuracy: 1.0000 - val_loss: 0.0210\n",
            "Epoch 84/100\n",
            "6/6 - 0s - 11ms/step - accuracy: 1.0000 - loss: 0.0179 - val_accuracy: 1.0000 - val_loss: 0.0220\n",
            "Epoch 85/100\n",
            "6/6 - 0s - 10ms/step - accuracy: 1.0000 - loss: 0.0182 - val_accuracy: 1.0000 - val_loss: 0.0236\n",
            "Epoch 86/100\n",
            "6/6 - 0s - 23ms/step - accuracy: 1.0000 - loss: 0.0180 - val_accuracy: 1.0000 - val_loss: 0.0206\n",
            "Epoch 87/100\n",
            "6/6 - 0s - 23ms/step - accuracy: 0.9896 - loss: 0.0180 - val_accuracy: 1.0000 - val_loss: 0.0188\n",
            "Epoch 88/100\n",
            "6/6 - 0s - 26ms/step - accuracy: 0.9896 - loss: 0.0180 - val_accuracy: 1.0000 - val_loss: 0.0208\n",
            "Epoch 89/100\n",
            "6/6 - 0s - 22ms/step - accuracy: 0.9896 - loss: 0.0177 - val_accuracy: 1.0000 - val_loss: 0.0216\n",
            "Epoch 90/100\n",
            "6/6 - 0s - 12ms/step - accuracy: 1.0000 - loss: 0.0175 - val_accuracy: 1.0000 - val_loss: 0.0218\n",
            "Epoch 91/100\n",
            "6/6 - 0s - 10ms/step - accuracy: 1.0000 - loss: 0.0174 - val_accuracy: 1.0000 - val_loss: 0.0217\n",
            "Epoch 92/100\n",
            "6/6 - 0s - 10ms/step - accuracy: 1.0000 - loss: 0.0177 - val_accuracy: 1.0000 - val_loss: 0.0232\n",
            "Epoch 93/100\n",
            "6/6 - 0s - 10ms/step - accuracy: 1.0000 - loss: 0.0177 - val_accuracy: 1.0000 - val_loss: 0.0238\n",
            "Epoch 94/100\n",
            "6/6 - 0s - 11ms/step - accuracy: 1.0000 - loss: 0.0177 - val_accuracy: 1.0000 - val_loss: 0.0208\n",
            "Epoch 95/100\n",
            "6/6 - 0s - 24ms/step - accuracy: 0.9896 - loss: 0.0173 - val_accuracy: 1.0000 - val_loss: 0.0213\n",
            "Epoch 96/100\n",
            "6/6 - 0s - 21ms/step - accuracy: 0.9896 - loss: 0.0174 - val_accuracy: 1.0000 - val_loss: 0.0219\n",
            "Epoch 97/100\n",
            "6/6 - 0s - 26ms/step - accuracy: 0.9896 - loss: 0.0172 - val_accuracy: 1.0000 - val_loss: 0.0214\n",
            "Epoch 98/100\n",
            "6/6 - 0s - 19ms/step - accuracy: 0.9896 - loss: 0.0171 - val_accuracy: 1.0000 - val_loss: 0.0222\n",
            "Epoch 99/100\n",
            "6/6 - 0s - 15ms/step - accuracy: 1.0000 - loss: 0.0172 - val_accuracy: 1.0000 - val_loss: 0.0227\n",
            "Epoch 100/100\n",
            "6/6 - 0s - 18ms/step - accuracy: 1.0000 - loss: 0.0171 - val_accuracy: 1.0000 - val_loss: 0.0240\n"
          ]
        }
      ]
    },
    {
      "cell_type": "code",
      "source": [
        "evaluation  = model.evaluate(X_test,y_test)"
      ],
      "metadata": {
        "colab": {
          "base_uri": "https://localhost:8080/"
        },
        "id": "Rd4WaNybHcZm",
        "outputId": "71b4603d-6258-40ee-b780-fa5530c01d82"
      },
      "execution_count": 46,
      "outputs": [
        {
          "output_type": "stream",
          "name": "stdout",
          "text": [
            "\u001b[1m1/1\u001b[0m \u001b[32m━━━━━━━━━━━━━━━━━━━━\u001b[0m\u001b[37m\u001b[0m \u001b[1m0s\u001b[0m 55ms/step - loss: 0.0737 - sparse_categorical_accuracy: 0.9667\n"
          ]
        }
      ]
    }
  ]
}